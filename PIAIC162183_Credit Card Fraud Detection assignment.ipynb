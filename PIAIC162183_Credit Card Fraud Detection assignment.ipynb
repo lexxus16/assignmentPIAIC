{
 "cells": [
  {
   "cell_type": "markdown",
   "metadata": {},
   "source": [
    "# Credit Card Fraud Detection::"
   ]
  },
  {
   "cell_type": "markdown",
   "metadata": {},
   "source": [
    "Download dataset from this link:\n",
    "\n",
    "https://www.kaggle.com/mlg-ulb/creditcardfraud"
   ]
  },
  {
   "cell_type": "markdown",
   "metadata": {},
   "source": [
    "# Description about dataset::"
   ]
  },
  {
   "cell_type": "markdown",
   "metadata": {},
   "source": [
    "The datasets contains transactions made by credit cards in September 2013 by european cardholders.\n",
    "This dataset presents transactions that occurred in two days, where we have 492 frauds out of 284,807 transactions. The dataset is highly unbalanced, the positive class (frauds) account for 0.172% of all transactions.\n",
    "\n",
    "It contains only numerical input variables which are the result of a PCA transformation. Unfortunately, due to confidentiality issues, we cannot provide the original features and more background information about the data. Features V1, V2, … V28 are the principal components obtained with PCA, the only features which have not been transformed with PCA are 'Time' and 'Amount'. Feature 'Time' contains the seconds elapsed between each transaction and the first transaction in the dataset. The feature 'Amount' is the transaction Amount, this feature can be used for example-dependant cost-senstive learning. \n",
    "\n",
    "\n",
    "### Feature 'Class' is the response variable and it takes value 1 in case of fraud and 0 otherwise."
   ]
  },
  {
   "cell_type": "markdown",
   "metadata": {},
   "source": [
    "# WORKFLOW :"
   ]
  },
  {
   "cell_type": "markdown",
   "metadata": {},
   "source": [
    "1.Load Data\n",
    "\n",
    "2.Check Missing Values ( If Exist ; Fill each record with mean of its feature )\n",
    "\n",
    "3.Standardized the Input Variables. \n",
    "\n",
    "4.Split into 50% Training(Samples,Labels) , 30% Test(Samples,Labels) and 20% Validation Data(Samples,Labels).\n",
    "\n",
    "5.Model : input Layer (No. of features ), 3 hidden layers including 10,8,6 unit & Output Layer with activation function relu/tanh (check by experiment).\n",
    "\n",
    "6.Compilation Step (Note : Its a Binary problem , select loss , metrics according to it)\n",
    "\n",
    "7.Train the Model with Epochs (100).\n",
    "\n",
    "8.If the model gets overfit tune your model by changing the units , No. of layers , epochs , add dropout layer or add Regularizer according to the need .\n",
    "\n",
    "9.Prediction should be > 92%\n",
    "10.Evaluation Step\n",
    "11Prediction\n"
   ]
  },
  {
   "cell_type": "markdown",
   "metadata": {},
   "source": [
    "# Task::"
   ]
  },
  {
   "cell_type": "markdown",
   "metadata": {},
   "source": [
    "## Identify fraudulent credit card transactions."
   ]
  },
  {
   "cell_type": "markdown",
   "metadata": {},
   "source": [
    "# Loading Data"
   ]
  },
  {
   "cell_type": "code",
   "execution_count": 2,
   "metadata": {},
   "outputs": [],
   "source": [
    "import pandas as pd\n",
    "\n",
    "df = pd.read_csv('creditcard.csv')"
   ]
  },
  {
   "cell_type": "code",
   "execution_count": 3,
   "metadata": {},
   "outputs": [
    {
     "data": {
      "text/html": [
       "<div>\n",
       "<style scoped>\n",
       "    .dataframe tbody tr th:only-of-type {\n",
       "        vertical-align: middle;\n",
       "    }\n",
       "\n",
       "    .dataframe tbody tr th {\n",
       "        vertical-align: top;\n",
       "    }\n",
       "\n",
       "    .dataframe thead th {\n",
       "        text-align: right;\n",
       "    }\n",
       "</style>\n",
       "<table border=\"1\" class=\"dataframe\">\n",
       "  <thead>\n",
       "    <tr style=\"text-align: right;\">\n",
       "      <th></th>\n",
       "      <th>Time</th>\n",
       "      <th>V1</th>\n",
       "      <th>V2</th>\n",
       "      <th>V3</th>\n",
       "      <th>V4</th>\n",
       "      <th>V5</th>\n",
       "      <th>V6</th>\n",
       "      <th>V7</th>\n",
       "      <th>V8</th>\n",
       "      <th>V9</th>\n",
       "      <th>...</th>\n",
       "      <th>V21</th>\n",
       "      <th>V22</th>\n",
       "      <th>V23</th>\n",
       "      <th>V24</th>\n",
       "      <th>V25</th>\n",
       "      <th>V26</th>\n",
       "      <th>V27</th>\n",
       "      <th>V28</th>\n",
       "      <th>Amount</th>\n",
       "      <th>Class</th>\n",
       "    </tr>\n",
       "  </thead>\n",
       "  <tbody>\n",
       "    <tr>\n",
       "      <th>0</th>\n",
       "      <td>0.0</td>\n",
       "      <td>-1.359807</td>\n",
       "      <td>-0.072781</td>\n",
       "      <td>2.536347</td>\n",
       "      <td>1.378155</td>\n",
       "      <td>-0.338321</td>\n",
       "      <td>0.462388</td>\n",
       "      <td>0.239599</td>\n",
       "      <td>0.098698</td>\n",
       "      <td>0.363787</td>\n",
       "      <td>...</td>\n",
       "      <td>-0.018307</td>\n",
       "      <td>0.277838</td>\n",
       "      <td>-0.110474</td>\n",
       "      <td>0.066928</td>\n",
       "      <td>0.128539</td>\n",
       "      <td>-0.189115</td>\n",
       "      <td>0.133558</td>\n",
       "      <td>-0.021053</td>\n",
       "      <td>149.62</td>\n",
       "      <td>0</td>\n",
       "    </tr>\n",
       "    <tr>\n",
       "      <th>1</th>\n",
       "      <td>0.0</td>\n",
       "      <td>1.191857</td>\n",
       "      <td>0.266151</td>\n",
       "      <td>0.166480</td>\n",
       "      <td>0.448154</td>\n",
       "      <td>0.060018</td>\n",
       "      <td>-0.082361</td>\n",
       "      <td>-0.078803</td>\n",
       "      <td>0.085102</td>\n",
       "      <td>-0.255425</td>\n",
       "      <td>...</td>\n",
       "      <td>-0.225775</td>\n",
       "      <td>-0.638672</td>\n",
       "      <td>0.101288</td>\n",
       "      <td>-0.339846</td>\n",
       "      <td>0.167170</td>\n",
       "      <td>0.125895</td>\n",
       "      <td>-0.008983</td>\n",
       "      <td>0.014724</td>\n",
       "      <td>2.69</td>\n",
       "      <td>0</td>\n",
       "    </tr>\n",
       "    <tr>\n",
       "      <th>2</th>\n",
       "      <td>1.0</td>\n",
       "      <td>-1.358354</td>\n",
       "      <td>-1.340163</td>\n",
       "      <td>1.773209</td>\n",
       "      <td>0.379780</td>\n",
       "      <td>-0.503198</td>\n",
       "      <td>1.800499</td>\n",
       "      <td>0.791461</td>\n",
       "      <td>0.247676</td>\n",
       "      <td>-1.514654</td>\n",
       "      <td>...</td>\n",
       "      <td>0.247998</td>\n",
       "      <td>0.771679</td>\n",
       "      <td>0.909412</td>\n",
       "      <td>-0.689281</td>\n",
       "      <td>-0.327642</td>\n",
       "      <td>-0.139097</td>\n",
       "      <td>-0.055353</td>\n",
       "      <td>-0.059752</td>\n",
       "      <td>378.66</td>\n",
       "      <td>0</td>\n",
       "    </tr>\n",
       "    <tr>\n",
       "      <th>3</th>\n",
       "      <td>1.0</td>\n",
       "      <td>-0.966272</td>\n",
       "      <td>-0.185226</td>\n",
       "      <td>1.792993</td>\n",
       "      <td>-0.863291</td>\n",
       "      <td>-0.010309</td>\n",
       "      <td>1.247203</td>\n",
       "      <td>0.237609</td>\n",
       "      <td>0.377436</td>\n",
       "      <td>-1.387024</td>\n",
       "      <td>...</td>\n",
       "      <td>-0.108300</td>\n",
       "      <td>0.005274</td>\n",
       "      <td>-0.190321</td>\n",
       "      <td>-1.175575</td>\n",
       "      <td>0.647376</td>\n",
       "      <td>-0.221929</td>\n",
       "      <td>0.062723</td>\n",
       "      <td>0.061458</td>\n",
       "      <td>123.50</td>\n",
       "      <td>0</td>\n",
       "    </tr>\n",
       "    <tr>\n",
       "      <th>4</th>\n",
       "      <td>2.0</td>\n",
       "      <td>-1.158233</td>\n",
       "      <td>0.877737</td>\n",
       "      <td>1.548718</td>\n",
       "      <td>0.403034</td>\n",
       "      <td>-0.407193</td>\n",
       "      <td>0.095921</td>\n",
       "      <td>0.592941</td>\n",
       "      <td>-0.270533</td>\n",
       "      <td>0.817739</td>\n",
       "      <td>...</td>\n",
       "      <td>-0.009431</td>\n",
       "      <td>0.798278</td>\n",
       "      <td>-0.137458</td>\n",
       "      <td>0.141267</td>\n",
       "      <td>-0.206010</td>\n",
       "      <td>0.502292</td>\n",
       "      <td>0.219422</td>\n",
       "      <td>0.215153</td>\n",
       "      <td>69.99</td>\n",
       "      <td>0</td>\n",
       "    </tr>\n",
       "  </tbody>\n",
       "</table>\n",
       "<p>5 rows × 31 columns</p>\n",
       "</div>"
      ],
      "text/plain": [
       "   Time        V1        V2        V3        V4        V5        V6        V7  \\\n",
       "0   0.0 -1.359807 -0.072781  2.536347  1.378155 -0.338321  0.462388  0.239599   \n",
       "1   0.0  1.191857  0.266151  0.166480  0.448154  0.060018 -0.082361 -0.078803   \n",
       "2   1.0 -1.358354 -1.340163  1.773209  0.379780 -0.503198  1.800499  0.791461   \n",
       "3   1.0 -0.966272 -0.185226  1.792993 -0.863291 -0.010309  1.247203  0.237609   \n",
       "4   2.0 -1.158233  0.877737  1.548718  0.403034 -0.407193  0.095921  0.592941   \n",
       "\n",
       "         V8        V9  ...       V21       V22       V23       V24       V25  \\\n",
       "0  0.098698  0.363787  ... -0.018307  0.277838 -0.110474  0.066928  0.128539   \n",
       "1  0.085102 -0.255425  ... -0.225775 -0.638672  0.101288 -0.339846  0.167170   \n",
       "2  0.247676 -1.514654  ...  0.247998  0.771679  0.909412 -0.689281 -0.327642   \n",
       "3  0.377436 -1.387024  ... -0.108300  0.005274 -0.190321 -1.175575  0.647376   \n",
       "4 -0.270533  0.817739  ... -0.009431  0.798278 -0.137458  0.141267 -0.206010   \n",
       "\n",
       "        V26       V27       V28  Amount  Class  \n",
       "0 -0.189115  0.133558 -0.021053  149.62      0  \n",
       "1  0.125895 -0.008983  0.014724    2.69      0  \n",
       "2 -0.139097 -0.055353 -0.059752  378.66      0  \n",
       "3 -0.221929  0.062723  0.061458  123.50      0  \n",
       "4  0.502292  0.219422  0.215153   69.99      0  \n",
       "\n",
       "[5 rows x 31 columns]"
      ]
     },
     "execution_count": 3,
     "metadata": {},
     "output_type": "execute_result"
    }
   ],
   "source": [
    "df.head()"
   ]
  },
  {
   "cell_type": "markdown",
   "metadata": {},
   "source": [
    "# Checking for missing values"
   ]
  },
  {
   "cell_type": "code",
   "execution_count": 5,
   "metadata": {
    "scrolled": true
   },
   "outputs": [
    {
     "data": {
      "text/plain": [
       "Time      0\n",
       "V1        0\n",
       "V2        0\n",
       "V3        0\n",
       "V4        0\n",
       "V5        0\n",
       "V6        0\n",
       "V7        0\n",
       "V8        0\n",
       "V9        0\n",
       "V10       0\n",
       "V11       0\n",
       "V12       0\n",
       "V13       0\n",
       "V14       0\n",
       "V15       0\n",
       "V16       0\n",
       "V17       0\n",
       "V18       0\n",
       "V19       0\n",
       "V20       0\n",
       "V21       0\n",
       "V22       0\n",
       "V23       0\n",
       "V24       0\n",
       "V25       0\n",
       "V26       0\n",
       "V27       0\n",
       "V28       0\n",
       "Amount    0\n",
       "Class     0\n",
       "dtype: int64"
      ]
     },
     "execution_count": 5,
     "metadata": {},
     "output_type": "execute_result"
    }
   ],
   "source": [
    "df.isnull().sum()"
   ]
  },
  {
   "cell_type": "markdown",
   "metadata": {},
   "source": [
    "# Standardizing input values"
   ]
  },
  {
   "cell_type": "code",
   "execution_count": 7,
   "metadata": {},
   "outputs": [],
   "source": [
    "df.reset_index(drop=True, inplace=True)\n",
    "labels = df.pop('Class')\n",
    "df -= df.mean()\n",
    "df /= df.std()"
   ]
  },
  {
   "cell_type": "markdown",
   "metadata": {},
   "source": [
    "# Splitting data into training, testing and validation set"
   ]
  },
  {
   "cell_type": "code",
   "execution_count": 9,
   "metadata": {},
   "outputs": [],
   "source": [
    "data_len = len(df)\n",
    "train_data = df.iloc[:data_len*50//100]\n",
    "val_data = df.iloc[data_len*50//100:data_len*70//100]\n",
    "test_data = df.iloc[data_len*70//100:]\n",
    "labels_len = len(labels)\n",
    "train_labels = labels.iloc[:labels_len*50//100]\n",
    "val_labels = labels.iloc[labels_len*50//100:labels_len*70//100]\n",
    "test_labels = labels.iloc[labels_len*70//100:]"
   ]
  },
  {
   "cell_type": "markdown",
   "metadata": {},
   "source": [
    "# Building Model (tanh)"
   ]
  },
  {
   "cell_type": "code",
   "execution_count": 11,
   "metadata": {},
   "outputs": [
    {
     "name": "stderr",
     "output_type": "stream",
     "text": [
      "Using TensorFlow backend.\n",
      "C:\\ProgramData\\Anaconda3\\lib\\site-packages\\tensorflow\\python\\framework\\dtypes.py:516: FutureWarning: Passing (type, 1) or '1type' as a synonym of type is deprecated; in a future version of numpy, it will be understood as (type, (1,)) / '(1,)type'.\n",
      "  _np_qint8 = np.dtype([(\"qint8\", np.int8, 1)])\n",
      "C:\\ProgramData\\Anaconda3\\lib\\site-packages\\tensorflow\\python\\framework\\dtypes.py:517: FutureWarning: Passing (type, 1) or '1type' as a synonym of type is deprecated; in a future version of numpy, it will be understood as (type, (1,)) / '(1,)type'.\n",
      "  _np_quint8 = np.dtype([(\"quint8\", np.uint8, 1)])\n",
      "C:\\ProgramData\\Anaconda3\\lib\\site-packages\\tensorflow\\python\\framework\\dtypes.py:518: FutureWarning: Passing (type, 1) or '1type' as a synonym of type is deprecated; in a future version of numpy, it will be understood as (type, (1,)) / '(1,)type'.\n",
      "  _np_qint16 = np.dtype([(\"qint16\", np.int16, 1)])\n",
      "C:\\ProgramData\\Anaconda3\\lib\\site-packages\\tensorflow\\python\\framework\\dtypes.py:519: FutureWarning: Passing (type, 1) or '1type' as a synonym of type is deprecated; in a future version of numpy, it will be understood as (type, (1,)) / '(1,)type'.\n",
      "  _np_quint16 = np.dtype([(\"quint16\", np.uint16, 1)])\n",
      "C:\\ProgramData\\Anaconda3\\lib\\site-packages\\tensorflow\\python\\framework\\dtypes.py:520: FutureWarning: Passing (type, 1) or '1type' as a synonym of type is deprecated; in a future version of numpy, it will be understood as (type, (1,)) / '(1,)type'.\n",
      "  _np_qint32 = np.dtype([(\"qint32\", np.int32, 1)])\n",
      "C:\\ProgramData\\Anaconda3\\lib\\site-packages\\tensorflow\\python\\framework\\dtypes.py:525: FutureWarning: Passing (type, 1) or '1type' as a synonym of type is deprecated; in a future version of numpy, it will be understood as (type, (1,)) / '(1,)type'.\n",
      "  np_resource = np.dtype([(\"resource\", np.ubyte, 1)])\n",
      "C:\\ProgramData\\Anaconda3\\lib\\site-packages\\tensorboard\\compat\\tensorflow_stub\\dtypes.py:541: FutureWarning: Passing (type, 1) or '1type' as a synonym of type is deprecated; in a future version of numpy, it will be understood as (type, (1,)) / '(1,)type'.\n",
      "  _np_qint8 = np.dtype([(\"qint8\", np.int8, 1)])\n",
      "C:\\ProgramData\\Anaconda3\\lib\\site-packages\\tensorboard\\compat\\tensorflow_stub\\dtypes.py:542: FutureWarning: Passing (type, 1) or '1type' as a synonym of type is deprecated; in a future version of numpy, it will be understood as (type, (1,)) / '(1,)type'.\n",
      "  _np_quint8 = np.dtype([(\"quint8\", np.uint8, 1)])\n",
      "C:\\ProgramData\\Anaconda3\\lib\\site-packages\\tensorboard\\compat\\tensorflow_stub\\dtypes.py:543: FutureWarning: Passing (type, 1) or '1type' as a synonym of type is deprecated; in a future version of numpy, it will be understood as (type, (1,)) / '(1,)type'.\n",
      "  _np_qint16 = np.dtype([(\"qint16\", np.int16, 1)])\n",
      "C:\\ProgramData\\Anaconda3\\lib\\site-packages\\tensorboard\\compat\\tensorflow_stub\\dtypes.py:544: FutureWarning: Passing (type, 1) or '1type' as a synonym of type is deprecated; in a future version of numpy, it will be understood as (type, (1,)) / '(1,)type'.\n",
      "  _np_quint16 = np.dtype([(\"quint16\", np.uint16, 1)])\n",
      "C:\\ProgramData\\Anaconda3\\lib\\site-packages\\tensorboard\\compat\\tensorflow_stub\\dtypes.py:545: FutureWarning: Passing (type, 1) or '1type' as a synonym of type is deprecated; in a future version of numpy, it will be understood as (type, (1,)) / '(1,)type'.\n",
      "  _np_qint32 = np.dtype([(\"qint32\", np.int32, 1)])\n",
      "C:\\ProgramData\\Anaconda3\\lib\\site-packages\\tensorboard\\compat\\tensorflow_stub\\dtypes.py:550: FutureWarning: Passing (type, 1) or '1type' as a synonym of type is deprecated; in a future version of numpy, it will be understood as (type, (1,)) / '(1,)type'.\n",
      "  np_resource = np.dtype([(\"resource\", np.ubyte, 1)])\n"
     ]
    },
    {
     "name": "stdout",
     "output_type": "stream",
     "text": [
      "WARNING:tensorflow:From C:\\ProgramData\\Anaconda3\\lib\\site-packages\\tensorflow\\python\\ops\\nn_impl.py:180: add_dispatch_support.<locals>.wrapper (from tensorflow.python.ops.array_ops) is deprecated and will be removed in a future version.\n",
      "Instructions for updating:\n",
      "Use tf.where in 2.0, which has the same broadcast rule as np.where\n"
     ]
    }
   ],
   "source": [
    "from keras.models import Sequential\n",
    "from keras.layers import Dense\n",
    "\n",
    "model = Sequential()\n",
    "model.add(Dense(10,activation=\"tanh\",input_shape=(len(train_data.columns),) ))\n",
    "model.add(Dense(8,activation=\"tanh\",input_shape=(df.shape[1],) ))\n",
    "model.add(Dense(6,activation=\"tanh\",input_shape=(df.shape[1],) ))\n",
    "model.add(Dense(1,activation=\"sigmoid\"))\n",
    "\n",
    "model.compile(optimizer='rmsprop'\n",
    "              ,loss='binary_crossentropy'\n",
    "              ,metrics=['accuracy'])"
   ]
  },
  {
   "cell_type": "code",
   "execution_count": 12,
   "metadata": {},
   "outputs": [
    {
     "name": "stdout",
     "output_type": "stream",
     "text": [
      "Model: \"sequential_1\"\n",
      "_________________________________________________________________\n",
      "Layer (type)                 Output Shape              Param #   \n",
      "=================================================================\n",
      "dense_1 (Dense)              (None, 10)                310       \n",
      "_________________________________________________________________\n",
      "dense_2 (Dense)              (None, 8)                 88        \n",
      "_________________________________________________________________\n",
      "dense_3 (Dense)              (None, 6)                 54        \n",
      "_________________________________________________________________\n",
      "dense_4 (Dense)              (None, 1)                 7         \n",
      "=================================================================\n",
      "Total params: 459\n",
      "Trainable params: 459\n",
      "Non-trainable params: 0\n",
      "_________________________________________________________________\n"
     ]
    }
   ],
   "source": [
    "model.summary()"
   ]
  },
  {
   "cell_type": "code",
   "execution_count": 13,
   "metadata": {
    "scrolled": false
   },
   "outputs": [
    {
     "name": "stdout",
     "output_type": "stream",
     "text": [
      "WARNING:tensorflow:From C:\\ProgramData\\Anaconda3\\lib\\site-packages\\keras\\backend\\tensorflow_backend.py:422: The name tf.global_variables is deprecated. Please use tf.compat.v1.global_variables instead.\n",
      "\n",
      "Train on 142403 samples, validate on 56961 samples\n",
      "Epoch 1/10\n",
      "142403/142403 [==============================] - 2s 12us/step - loss: 0.0839 - accuracy: 0.9815 - val_loss: 1.1413 - val_accuracy: 0.6205\n",
      "Epoch 2/10\n",
      "142403/142403 [==============================] - 2s 11us/step - loss: 0.0042 - accuracy: 0.9993 - val_loss: 1.2539 - val_accuracy: 0.6616\n",
      "Epoch 3/10\n",
      "142403/142403 [==============================] - 2s 11us/step - loss: 0.0035 - accuracy: 0.9993 - val_loss: 1.3313 - val_accuracy: 0.6568\n",
      "Epoch 4/10\n",
      "142403/142403 [==============================] - 1s 11us/step - loss: 0.0033 - accuracy: 0.9994 - val_loss: 1.2212 - val_accuracy: 0.6795\n",
      "Epoch 5/10\n",
      "142403/142403 [==============================] - 2s 11us/step - loss: 0.0032 - accuracy: 0.9994 - val_loss: 1.2332 - val_accuracy: 0.6796\n",
      "Epoch 6/10\n",
      "142403/142403 [==============================] - 1s 10us/step - loss: 0.0031 - accuracy: 0.9994 - val_loss: 1.1404 - val_accuracy: 0.7002\n",
      "Epoch 7/10\n",
      "142403/142403 [==============================] - 1s 10us/step - loss: 0.0031 - accuracy: 0.9994 - val_loss: 1.0523 - val_accuracy: 0.7188\n",
      "Epoch 8/10\n",
      "142403/142403 [==============================] - 1s 10us/step - loss: 0.0030 - accuracy: 0.9994 - val_loss: 0.8692 - val_accuracy: 0.7546\n",
      "Epoch 9/10\n",
      "142403/142403 [==============================] - 1s 10us/step - loss: 0.0030 - accuracy: 0.9994 - val_loss: 0.8003 - val_accuracy: 0.7686\n",
      "Epoch 10/10\n",
      "142403/142403 [==============================] - 1s 10us/step - loss: 0.0029 - accuracy: 0.9993 - val_loss: 0.6387 - val_accuracy: 0.7973\n"
     ]
    }
   ],
   "source": [
    "hist = model.fit(train_data,train_labels,epochs=10,batch_size=256,validation_data=(val_data,val_labels))"
   ]
  },
  {
   "cell_type": "code",
   "execution_count": 14,
   "metadata": {},
   "outputs": [
    {
     "name": "stdout",
     "output_type": "stream",
     "text": [
      "85443/85443 [==============================] - 2s 19us/step\n"
     ]
    }
   ],
   "source": [
    "test_loss , test_acc = model.evaluate(test_data,test_labels)\n"
   ]
  },
  {
   "cell_type": "code",
   "execution_count": 15,
   "metadata": {},
   "outputs": [
    {
     "data": {
      "text/plain": [
       "199896    1\n",
       "201098    1\n",
       "201601    1\n",
       "203324    1\n",
       "203328    1\n",
       "         ..\n",
       "279863    1\n",
       "280143    1\n",
       "280149    1\n",
       "281144    1\n",
       "281674    1\n",
       "Name: Class, Length: 108, dtype: int64"
      ]
     },
     "execution_count": 15,
     "metadata": {},
     "output_type": "execute_result"
    }
   ],
   "source": [
    "test_labels[test_labels == 1]\n"
   ]
  },
  {
   "cell_type": "code",
   "execution_count": 16,
   "metadata": {},
   "outputs": [
    {
     "data": {
      "text/plain": [
       "<matplotlib.legend.Legend at 0x1419eb08>"
      ]
     },
     "execution_count": 16,
     "metadata": {},
     "output_type": "execute_result"
    },
    {
     "data": {
      "image/png": "[encoded data removed]",
      "text/plain": [
       "<Figure size 432x288 with 1 Axes>"
      ]
     },
     "metadata": {
      "needs_background": "light"
     },
     "output_type": "display_data"
    }
   ],
   "source": [
    "import numpy as np\n",
    "import matplotlib.pyplot as plt\n",
    "\n",
    "history_dict = hist.history\n",
    "acc_values = history_dict['accuracy']\n",
    "val_acc_values = history_dict['val_accuracy']\n",
    "epoches = np.arange(1,len(history_dict['accuracy'])+1)\n",
    "plt.plot(epoches,acc_values,'bo',label=\"Training Accuracy\")\n",
    "plt.plot(epoches,val_acc_values,'b',label=\"Validation Accuracy\")\n",
    "plt.title('Training and validation Accuracy')\n",
    "plt.xlabel(\"Epoches\")\n",
    "plt.ylabel(\"Accuracy\")\n",
    "plt.legend()\n"
   ]
  },
  {
   "cell_type": "markdown",
   "metadata": {},
   "source": [
    "# Building model (relu)"
   ]
  },
  {
   "cell_type": "code",
   "execution_count": 18,
   "metadata": {},
   "outputs": [],
   "source": [
    "from keras.models import Sequential\n",
    "from keras.layers import Dense\n",
    "\n",
    "model = Sequential()\n",
    "model.add(Dense(30,activation=\"relu\",input_shape=(len(train_data.columns),) ))\n",
    "model.add(Dense(20,activation=\"relu\" ))\n",
    "model.add(Dense(10,activation=\"relu\"))\n",
    "model.add(Dense(1,activation=\"sigmoid\"))\n",
    "model.compile(optimizer='rmsprop'\n",
    "              ,loss='binary_crossentropy'\n",
    "              ,metrics=['accuracy'])\n"
   ]
  },
  {
   "cell_type": "code",
   "execution_count": 19,
   "metadata": {
    "scrolled": true
   },
   "outputs": [
    {
     "name": "stdout",
     "output_type": "stream",
     "text": [
      "Train on 142403 samples, validate on 56961 samples\n",
      "Epoch 1/100\n",
      "142403/142403 [==============================] - 2s 16us/step - loss: 0.1287 - accuracy: 0.9488 - val_loss: 0.0214 - val_accuracy: 0.9993\n",
      "Epoch 2/100\n",
      "142403/142403 [==============================] - 2s 14us/step - loss: 0.0041 - accuracy: 0.9992 - val_loss: 0.0252 - val_accuracy: 0.9989\n",
      "Epoch 3/100\n",
      "142403/142403 [==============================] - 2s 14us/step - loss: 0.0034 - accuracy: 0.9993 - val_loss: 0.0185 - val_accuracy: 0.9986\n",
      "Epoch 4/100\n",
      "142403/142403 [==============================] - 2s 14us/step - loss: 0.0032 - accuracy: 0.9993 - val_loss: 0.0168 - val_accuracy: 0.9987\n",
      "Epoch 5/100\n",
      "142403/142403 [==============================] - 2s 15us/step - loss: 0.0031 - accuracy: 0.9994 - val_loss: 0.0237 - val_accuracy: 0.9960\n",
      "Epoch 6/100\n",
      "142403/142403 [==============================] - 2s 14us/step - loss: 0.0028 - accuracy: 0.9995 - val_loss: 0.0309 - val_accuracy: 0.9929\n",
      "Epoch 7/100\n",
      "142403/142403 [==============================] - 2s 15us/step - loss: 0.0028 - accuracy: 0.9995 - val_loss: 0.0362 - val_accuracy: 0.9917\n",
      "Epoch 8/100\n",
      "142403/142403 [==============================] - 2s 14us/step - loss: 0.0025 - accuracy: 0.9995 - val_loss: 0.0313 - val_accuracy: 0.9930\n",
      "Epoch 9/100\n",
      "142403/142403 [==============================] - 2s 14us/step - loss: 0.0026 - accuracy: 0.9996 - val_loss: 0.0347 - val_accuracy: 0.9925\n",
      "Epoch 10/100\n",
      "142403/142403 [==============================] - 2s 15us/step - loss: 0.0026 - accuracy: 0.9995 - val_loss: 0.0399 - val_accuracy: 0.9908\n",
      "Epoch 11/100\n",
      "142403/142403 [==============================] - 2s 15us/step - loss: 0.0025 - accuracy: 0.9996 - val_loss: 0.0369 - val_accuracy: 0.9922\n",
      "Epoch 12/100\n",
      "142403/142403 [==============================] - 2s 15us/step - loss: 0.0024 - accuracy: 0.9996 - val_loss: 0.0471 - val_accuracy: 0.9890\n",
      "Epoch 13/100\n",
      "142403/142403 [==============================] - 2s 15us/step - loss: 0.0025 - accuracy: 0.9996 - val_loss: 0.0279 - val_accuracy: 0.9943\n",
      "Epoch 14/100\n",
      "142403/142403 [==============================] - 2s 17us/step - loss: 0.0023 - accuracy: 0.9996 - val_loss: 0.0366 - val_accuracy: 0.9927\n",
      "Epoch 15/100\n",
      "142403/142403 [==============================] - 2s 15us/step - loss: 0.0023 - accuracy: 0.9996 - val_loss: 0.0349 - val_accuracy: 0.9933\n",
      "Epoch 16/100\n",
      "142403/142403 [==============================] - 2s 15us/step - loss: 0.0023 - accuracy: 0.9996 - val_loss: 0.0253 - val_accuracy: 0.9952\n",
      "Epoch 17/100\n",
      "142403/142403 [==============================] - 2s 15us/step - loss: 0.0024 - accuracy: 0.9996 - val_loss: 0.0316 - val_accuracy: 0.9936\n",
      "Epoch 18/100\n",
      "142403/142403 [==============================] - 2s 14us/step - loss: 0.0022 - accuracy: 0.9996 - val_loss: 0.0343 - val_accuracy: 0.9927\n",
      "Epoch 19/100\n",
      "142403/142403 [==============================] - 2s 14us/step - loss: 0.0022 - accuracy: 0.9996 - val_loss: 0.0274 - val_accuracy: 0.9943\n",
      "Epoch 20/100\n",
      "142403/142403 [==============================] - 2s 15us/step - loss: 0.0023 - accuracy: 0.9996 - val_loss: 0.0310 - val_accuracy: 0.9935\n",
      "Epoch 21/100\n",
      "142403/142403 [==============================] - 2s 14us/step - loss: 0.0021 - accuracy: 0.9996 - val_loss: 0.0305 - val_accuracy: 0.9941\n",
      "Epoch 22/100\n",
      "142403/142403 [==============================] - 2s 14us/step - loss: 0.0021 - accuracy: 0.9996 - val_loss: 0.0279 - val_accuracy: 0.9948\n",
      "Epoch 23/100\n",
      "142403/142403 [==============================] - 2s 14us/step - loss: 0.0021 - accuracy: 0.9996 - val_loss: 0.0468 - val_accuracy: 0.9914\n",
      "Epoch 24/100\n",
      "142403/142403 [==============================] - 2s 14us/step - loss: 0.0021 - accuracy: 0.9996 - val_loss: 0.0327 - val_accuracy: 0.9941\n",
      "Epoch 25/100\n",
      "142403/142403 [==============================] - 2s 14us/step - loss: 0.0021 - accuracy: 0.9996 - val_loss: 0.0398 - val_accuracy: 0.9927\n",
      "Epoch 26/100\n",
      "142403/142403 [==============================] - 2s 14us/step - loss: 0.0020 - accuracy: 0.9996 - val_loss: 0.0417 - val_accuracy: 0.9927\n",
      "Epoch 27/100\n",
      "142403/142403 [==============================] - 2s 14us/step - loss: 0.0020 - accuracy: 0.9996 - val_loss: 0.0443 - val_accuracy: 0.9927\n",
      "Epoch 28/100\n",
      "142403/142403 [==============================] - 2s 14us/step - loss: 0.0020 - accuracy: 0.9997 - val_loss: 0.0413 - val_accuracy: 0.9927\n",
      "Epoch 29/100\n",
      "142403/142403 [==============================] - 2s 14us/step - loss: 0.0020 - accuracy: 0.9997 - val_loss: 0.0206 - val_accuracy: 0.9964\n",
      "Epoch 30/100\n",
      "142403/142403 [==============================] - 2s 15us/step - loss: 0.0021 - accuracy: 0.9997 - val_loss: 0.0286 - val_accuracy: 0.9952\n",
      "Epoch 31/100\n",
      "142403/142403 [==============================] - 2s 15us/step - loss: 0.0020 - accuracy: 0.9997 - val_loss: 0.0188 - val_accuracy: 0.9973\n",
      "Epoch 32/100\n",
      "142403/142403 [==============================] - 2s 15us/step - loss: 0.0021 - accuracy: 0.9997 - val_loss: 0.0237 - val_accuracy: 0.9960\n",
      "Epoch 33/100\n",
      "142403/142403 [==============================] - 2s 14us/step - loss: 0.0020 - accuracy: 0.9996 - val_loss: 0.0185 - val_accuracy: 0.9972\n",
      "Epoch 34/100\n",
      "142403/142403 [==============================] - 2s 15us/step - loss: 0.0021 - accuracy: 0.9997 - val_loss: 0.0289 - val_accuracy: 0.9948\n",
      "Epoch 35/100\n",
      "142403/142403 [==============================] - 2s 14us/step - loss: 0.0020 - accuracy: 0.9997 - val_loss: 0.0177 - val_accuracy: 0.9968\n",
      "Epoch 36/100\n",
      "142403/142403 [==============================] - 2s 15us/step - loss: 0.0021 - accuracy: 0.9997 - val_loss: 0.0216 - val_accuracy: 0.9964\n",
      "Epoch 37/100\n",
      "142403/142403 [==============================] - 2s 15us/step - loss: 0.0019 - accuracy: 0.9996 - val_loss: 0.0192 - val_accuracy: 0.9975\n",
      "Epoch 38/100\n",
      "142403/142403 [==============================] - 2s 15us/step - loss: 0.0019 - accuracy: 0.9997 - val_loss: 0.0234 - val_accuracy: 0.9962\n",
      "Epoch 39/100\n",
      "142403/142403 [==============================] - 2s 14us/step - loss: 0.0018 - accuracy: 0.9997 - val_loss: 0.0320 - val_accuracy: 0.9952\n",
      "Epoch 40/100\n",
      "142403/142403 [==============================] - 2s 14us/step - loss: 0.0020 - accuracy: 0.9997 - val_loss: 0.0335 - val_accuracy: 0.9949\n",
      "Epoch 41/100\n",
      "142403/142403 [==============================] - 2s 14us/step - loss: 0.0020 - accuracy: 0.9997 - val_loss: 0.0241 - val_accuracy: 0.9965\n",
      "Epoch 42/100\n",
      "142403/142403 [==============================] - 2s 15us/step - loss: 0.0020 - accuracy: 0.9997 - val_loss: 0.0373 - val_accuracy: 0.9941\n",
      "Epoch 43/100\n",
      "142403/142403 [==============================] - 2s 15us/step - loss: 0.0020 - accuracy: 0.9997 - val_loss: 0.0383 - val_accuracy: 0.9939\n",
      "Epoch 44/100\n",
      "142403/142403 [==============================] - 2s 14us/step - loss: 0.0018 - accuracy: 0.9997 - val_loss: 0.0277 - val_accuracy: 0.9955\n",
      "Epoch 45/100\n",
      "142403/142403 [==============================] - 2s 14us/step - loss: 0.0019 - accuracy: 0.9997 - val_loss: 0.0376 - val_accuracy: 0.9943\n",
      "Epoch 46/100\n",
      "142403/142403 [==============================] - 2s 15us/step - loss: 0.0018 - accuracy: 0.9997 - val_loss: 0.0405 - val_accuracy: 0.9939\n",
      "Epoch 47/100\n",
      "142403/142403 [==============================] - 2s 14us/step - loss: 0.0019 - accuracy: 0.9997 - val_loss: 0.0245 - val_accuracy: 0.9967\n",
      "Epoch 48/100\n",
      "142403/142403 [==============================] - 2s 14us/step - loss: 0.0018 - accuracy: 0.9997 - val_loss: 0.0259 - val_accuracy: 0.9963\n",
      "Epoch 49/100\n",
      "142403/142403 [==============================] - 2s 14us/step - loss: 0.0019 - accuracy: 0.9997 - val_loss: 0.0379 - val_accuracy: 0.9944\n",
      "Epoch 50/100\n",
      "142403/142403 [==============================] - 2s 14us/step - loss: 0.0017 - accuracy: 0.9997 - val_loss: 0.0275 - val_accuracy: 0.9959\n",
      "Epoch 51/100\n",
      "142403/142403 [==============================] - 2s 14us/step - loss: 0.0018 - accuracy: 0.9997 - val_loss: 0.0387 - val_accuracy: 0.9942\n",
      "Epoch 52/100\n",
      "142403/142403 [==============================] - 2s 14us/step - loss: 0.0018 - accuracy: 0.9997 - val_loss: 0.0611 - val_accuracy: 0.9913\n",
      "Epoch 53/100\n",
      "142403/142403 [==============================] - 2s 14us/step - loss: 0.0018 - accuracy: 0.9997 - val_loss: 0.0565 - val_accuracy: 0.9921\n",
      "Epoch 54/100\n",
      "142403/142403 [==============================] - 2s 14us/step - loss: 0.0017 - accuracy: 0.9997 - val_loss: 0.0443 - val_accuracy: 0.9937\n"
     ]
    },
    {
     "name": "stdout",
     "output_type": "stream",
     "text": [
      "Epoch 55/100\n",
      "142403/142403 [==============================] - 2s 14us/step - loss: 0.0016 - accuracy: 0.9997 - val_loss: 0.0327 - val_accuracy: 0.9954\n",
      "Epoch 56/100\n",
      "142403/142403 [==============================] - 2s 14us/step - loss: 0.0018 - accuracy: 0.9997 - val_loss: 0.0735 - val_accuracy: 0.9885\n",
      "Epoch 57/100\n",
      "142403/142403 [==============================] - 2s 14us/step - loss: 0.0017 - accuracy: 0.9997 - val_loss: 0.0683 - val_accuracy: 0.9892\n",
      "Epoch 58/100\n",
      "142403/142403 [==============================] - 2s 14us/step - loss: 0.0018 - accuracy: 0.9997 - val_loss: 0.0449 - val_accuracy: 0.9926\n",
      "Epoch 59/100\n",
      "142403/142403 [==============================] - 2s 14us/step - loss: 0.0017 - accuracy: 0.9997 - val_loss: 0.0488 - val_accuracy: 0.9926\n",
      "Epoch 60/100\n",
      "142403/142403 [==============================] - 2s 14us/step - loss: 0.0017 - accuracy: 0.9997 - val_loss: 0.0980 - val_accuracy: 0.9869\n",
      "Epoch 61/100\n",
      "142403/142403 [==============================] - 2s 14us/step - loss: 0.0017 - accuracy: 0.9997 - val_loss: 0.0627 - val_accuracy: 0.9916\n",
      "Epoch 62/100\n",
      "142403/142403 [==============================] - 2s 14us/step - loss: 0.0019 - accuracy: 0.9997 - val_loss: 0.0580 - val_accuracy: 0.9924\n",
      "Epoch 63/100\n",
      "142403/142403 [==============================] - 2s 14us/step - loss: 0.0018 - accuracy: 0.9996 - val_loss: 0.0793 - val_accuracy: 0.9896\n",
      "Epoch 64/100\n",
      "142403/142403 [==============================] - 2s 14us/step - loss: 0.0017 - accuracy: 0.9997 - val_loss: 0.0928 - val_accuracy: 0.9877\n",
      "Epoch 65/100\n",
      "142403/142403 [==============================] - 2s 14us/step - loss: 0.0017 - accuracy: 0.9997 - val_loss: 0.0683 - val_accuracy: 0.9910\n",
      "Epoch 66/100\n",
      "142403/142403 [==============================] - 2s 14us/step - loss: 0.0017 - accuracy: 0.9997 - val_loss: 0.0747 - val_accuracy: 0.9903\n",
      "Epoch 67/100\n",
      "142403/142403 [==============================] - 2s 14us/step - loss: 0.0017 - accuracy: 0.9997 - val_loss: 0.0659 - val_accuracy: 0.9913\n",
      "Epoch 68/100\n",
      "142403/142403 [==============================] - 2s 14us/step - loss: 0.0017 - accuracy: 0.9997 - val_loss: 0.0899 - val_accuracy: 0.9890\n",
      "Epoch 69/100\n",
      "142403/142403 [==============================] - 2s 14us/step - loss: 0.0017 - accuracy: 0.9997 - val_loss: 0.0809 - val_accuracy: 0.9892\n",
      "Epoch 70/100\n",
      "142403/142403 [==============================] - 2s 15us/step - loss: 0.0016 - accuracy: 0.9997 - val_loss: 0.0865 - val_accuracy: 0.9893\n",
      "Epoch 71/100\n",
      "142403/142403 [==============================] - 2s 16us/step - loss: 0.0018 - accuracy: 0.9997 - val_loss: 0.0616 - val_accuracy: 0.9916\n",
      "Epoch 72/100\n",
      "142403/142403 [==============================] - 2s 16us/step - loss: 0.0017 - accuracy: 0.9997 - val_loss: 0.0628 - val_accuracy: 0.9918\n",
      "Epoch 73/100\n",
      "142403/142403 [==============================] - 2s 15us/step - loss: 0.0017 - accuracy: 0.9997 - val_loss: 0.0777 - val_accuracy: 0.9899\n",
      "Epoch 74/100\n",
      "142403/142403 [==============================] - 2s 15us/step - loss: 0.0017 - accuracy: 0.9997 - val_loss: 0.0707 - val_accuracy: 0.9907\n",
      "Epoch 75/100\n",
      "142403/142403 [==============================] - 2s 16us/step - loss: 0.0017 - accuracy: 0.9997 - val_loss: 0.0880 - val_accuracy: 0.9892\n",
      "Epoch 76/100\n",
      "142403/142403 [==============================] - 2s 16us/step - loss: 0.0016 - accuracy: 0.9997 - val_loss: 0.1095 - val_accuracy: 0.9859\n",
      "Epoch 77/100\n",
      "142403/142403 [==============================] - 2s 15us/step - loss: 0.0015 - accuracy: 0.9998 - val_loss: 0.1107 - val_accuracy: 0.9860\n",
      "Epoch 78/100\n",
      "142403/142403 [==============================] - 2s 17us/step - loss: 0.0017 - accuracy: 0.9997 - val_loss: 0.0934 - val_accuracy: 0.9882\n",
      "Epoch 79/100\n",
      "142403/142403 [==============================] - 2s 16us/step - loss: 0.0016 - accuracy: 0.9997 - val_loss: 0.0711 - val_accuracy: 0.9912\n",
      "Epoch 80/100\n",
      "142403/142403 [==============================] - 2s 17us/step - loss: 0.0014 - accuracy: 0.9997 - val_loss: 0.0827 - val_accuracy: 0.9893\n",
      "Epoch 81/100\n",
      "142403/142403 [==============================] - 2s 16us/step - loss: 0.0015 - accuracy: 0.9998 - val_loss: 0.0908 - val_accuracy: 0.9888\n",
      "Epoch 82/100\n",
      "142403/142403 [==============================] - 2s 15us/step - loss: 0.0016 - accuracy: 0.9997 - val_loss: 0.1259 - val_accuracy: 0.9847\n",
      "Epoch 83/100\n",
      "142403/142403 [==============================] - 2s 14us/step - loss: 0.0014 - accuracy: 0.9997 - val_loss: 0.1067 - val_accuracy: 0.9867\n",
      "Epoch 84/100\n",
      "142403/142403 [==============================] - 2s 16us/step - loss: 0.0014 - accuracy: 0.9998 - val_loss: 0.1213 - val_accuracy: 0.9851\n",
      "Epoch 85/100\n",
      "142403/142403 [==============================] - 2s 15us/step - loss: 0.0014 - accuracy: 0.9998 - val_loss: 0.1075 - val_accuracy: 0.9863\n",
      "Epoch 86/100\n",
      "142403/142403 [==============================] - 2s 15us/step - loss: 0.0015 - accuracy: 0.9998 - val_loss: 0.0822 - val_accuracy: 0.9899\n",
      "Epoch 87/100\n",
      "142403/142403 [==============================] - 2s 15us/step - loss: 0.0014 - accuracy: 0.9998 - val_loss: 0.0762 - val_accuracy: 0.9905\n",
      "Epoch 88/100\n",
      "142403/142403 [==============================] - 2s 16us/step - loss: 0.0015 - accuracy: 0.9997 - val_loss: 0.1094 - val_accuracy: 0.9855\n",
      "Epoch 89/100\n",
      "142403/142403 [==============================] - 2s 14us/step - loss: 0.0015 - accuracy: 0.9998 - val_loss: 0.0934 - val_accuracy: 0.9886\n",
      "Epoch 90/100\n",
      "142403/142403 [==============================] - 2s 14us/step - loss: 0.0015 - accuracy: 0.9997 - val_loss: 0.0868 - val_accuracy: 0.9899\n",
      "Epoch 91/100\n",
      "142403/142403 [==============================] - 2s 14us/step - loss: 0.0014 - accuracy: 0.9997 - val_loss: 0.1279 - val_accuracy: 0.9850\n",
      "Epoch 92/100\n",
      "142403/142403 [==============================] - 2s 14us/step - loss: 0.0013 - accuracy: 0.9998 - val_loss: 0.1313 - val_accuracy: 0.9863\n",
      "Epoch 93/100\n",
      "142403/142403 [==============================] - 2s 15us/step - loss: 0.0014 - accuracy: 0.9998 - val_loss: 0.1330 - val_accuracy: 0.9860\n",
      "Epoch 94/100\n",
      "142403/142403 [==============================] - 2s 15us/step - loss: 0.0016 - accuracy: 0.9998 - val_loss: 0.2113 - val_accuracy: 0.9798\n",
      "Epoch 95/100\n",
      "142403/142403 [==============================] - 2s 14us/step - loss: 0.0014 - accuracy: 0.9998 - val_loss: 0.1282 - val_accuracy: 0.9866\n",
      "Epoch 96/100\n",
      "142403/142403 [==============================] - 2s 14us/step - loss: 0.0013 - accuracy: 0.9998 - val_loss: 0.2262 - val_accuracy: 0.9794\n",
      "Epoch 97/100\n",
      "142403/142403 [==============================] - 2s 14us/step - loss: 0.0014 - accuracy: 0.9998 - val_loss: 0.1480 - val_accuracy: 0.9856\n",
      "Epoch 98/100\n",
      "142403/142403 [==============================] - 2s 14us/step - loss: 0.0015 - accuracy: 0.9998 - val_loss: 0.1221 - val_accuracy: 0.9875\n",
      "Epoch 99/100\n",
      "142403/142403 [==============================] - 2s 14us/step - loss: 0.0014 - accuracy: 0.9998 - val_loss: 0.1546 - val_accuracy: 0.9852\n",
      "Epoch 100/100\n",
      "142403/142403 [==============================] - 2s 14us/step - loss: 0.0014 - accuracy: 0.9998 - val_loss: 0.1603 - val_accuracy: 0.9852\n"
     ]
    }
   ],
   "source": [
    "hist2 = model.fit(train_data,train_labels,epochs=100,batch_size=256,validation_data=(val_data,val_labels))"
   ]
  },
  {
   "cell_type": "code",
   "execution_count": 20,
   "metadata": {},
   "outputs": [
    {
     "data": {
      "text/plain": [
       "<matplotlib.legend.Legend at 0x18b26c48>"
      ]
     },
     "execution_count": 20,
     "metadata": {},
     "output_type": "execute_result"
    },
    {
     "data": {
      "image/png": "[encoded data removed]",
      "text/plain": [
       "<Figure size 432x288 with 1 Axes>"
      ]
     },
     "metadata": {
      "needs_background": "light"
     },
     "output_type": "display_data"
    }
   ],
   "source": [
    "import numpy as np\n",
    "import matplotlib.pyplot as plt\n",
    "\n",
    "history_dict = hist2.history\n",
    "acc_values = history_dict['accuracy']\n",
    "val_acc_values = history_dict['val_accuracy']\n",
    "epoches = np.arange(1,len(history_dict['accuracy'])+1)\n",
    "plt.plot(epoches,acc_values,'bo',label=\"Training Accuracy\")\n",
    "plt.plot(epoches,val_acc_values,'b',label=\"Validation Accuracy\")\n",
    "plt.title('Training and validation Accuracy')\n",
    "plt.xlabel(\"Epoches\")\n",
    "plt.ylabel(\"Accuracy\")\n",
    "plt.legend()\n"
   ]
  },
  {
   "cell_type": "markdown",
   "metadata": {},
   "source": [
    "# Evaluation"
   ]
  },
  {
   "cell_type": "code",
   "execution_count": 34,
   "metadata": {},
   "outputs": [
    {
     "name": "stdout",
     "output_type": "stream",
     "text": [
      "85443/85443 [==============================] - 2s 22us/step\n"
     ]
    }
   ],
   "source": [
    "test_loss , test_acc = model.evaluate(test_data,test_labels)\n"
   ]
  },
  {
   "cell_type": "markdown",
   "metadata": {},
   "source": [
    "# Prediction"
   ]
  },
  {
   "cell_type": "code",
   "execution_count": 36,
   "metadata": {},
   "outputs": [
    {
     "name": "stdout",
     "output_type": "stream",
     "text": [
      "85443/85443 [==============================] - 2s 22us/step\n",
      "accuracy: 99.00%\n"
     ]
    }
   ],
   "source": [
    "scores =model.evaluate(test_data,test_labels)\n",
    "print(\"%s: %.2f%%\" % (model.metrics_names[1], scores[1]*100))"
   ]
  },
  {
   "cell_type": "code",
   "execution_count": null,
   "metadata": {},
   "outputs": [],
   "source": []
  }
 ],
 "metadata": {
  "kernelspec": {
   "display_name": "Python 3",
   "language": "python",
   "name": "python3"
  },
  "language_info": {
   "codemirror_mode": {
    "name": "ipython",
    "version": 3
   },
   "file_extension": ".py",
   "mimetype": "text/x-python",
   "name": "python",
   "nbconvert_exporter": "python",
   "pygments_lexer": "ipython3",
   "version": "3.7.6"
  }
 },
 "nbformat": 4,
 "nbformat_minor": 2
}
